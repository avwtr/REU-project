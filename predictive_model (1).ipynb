{
 "cells": [
  {
   "cell_type": "code",
   "execution_count": 2,
   "metadata": {},
   "outputs": [],
   "source": [
    "#imports\n",
    "import pandas as pd; pd.set_option('display.max_columns', None), pd.set_option('display.max_rows', None)\n",
    "from sklearn.tree import DecisionTreeClassifier\n",
    "from sklearn.model_selection import train_test_split\n",
    "from sklearn.metrics import accuracy_score\n",
    "from sklearn import metrics \n",
    "from pandas import DataFrame\n",
    "import numpy as np\n",
    "from sklearn import tree"
   ]
  },
  {
   "cell_type": "code",
   "execution_count": 14,
   "metadata": {},
   "outputs": [],
   "source": [
    "#importing csv\n",
    "data = pd.read_csv('fixed_df.csv')\n",
    "#exporting completed df to csv\n",
    "data.to_csv('~/Desktop/REU/model_output.csv', index = True)"
   ]
  },
  {
   "cell_type": "code",
   "execution_count": 67,
   "metadata": {},
   "outputs": [
    {
     "data": {
      "text/plain": [
       "0.7272727272727273"
      ]
     },
     "execution_count": 67,
     "metadata": {},
     "output_type": "execute_result"
    }
   ],
   "source": [
    "X = data.drop(columns = ['Media_type', 'Date', 'StdDev', 'Mode', 'Perim.', 'IntDen','Median', 'RawIntDen', 'AR', 'Round', 'Solidity','Border_StdDev', 'BordeR_Mode', 'Border_Perim.', 'Border_Median', 'Border_IntDen','Border_RawIntDen', 'Border_AR', 'Border_Round', 'Border_Solidity'])\n",
    "y = data['Media_type']\n",
    "\n",
    "X_train, X_test, y_train, y_test = train_test_split(X, y, test_size = 0.2)\n",
    "\n",
    "model = DecisionTreeClassifier()\n",
    "\n",
    "model.fit(X_train, y_train)\n",
    "predictions = model.predict(X_test)\n",
    "#predictions = model.predict([[]])\n",
    "#predictions\n",
    "score = accuracy_score(y_test, predictions)\n",
    "score\n",
    "predics = model.predict(X)\n",
    "data['predics'] = predics\n",
    "#tree.export_graphviz(model, out_file = 'new_media_predictor.dot',feature_names=['Area', 'Mean', 'Circ.','Border_Area', 'Border_Mean', 'Border_Circ.'],\n",
    "                    #class_names = sorted(y.unique()),label = 'all', rounded=True, filled =True)"
   ]
  },
  {
   "cell_type": "code",
   "execution_count": 15,
   "metadata": {
    "scrolled": true
   },
   "outputs": [],
   "source": [
    "#function to run model \n",
    "def run_model(dataset):\n",
    "    X = dataset.drop(columns = ['Media_type', 'Date', 'StdDev', 'Mode', 'Perim.', 'IntDen','Median', 'RawIntDen', 'AR', 'Round', 'Solidity','Border_StdDev', 'BordeR_Mode', 'Border_Perim.', 'Border_Median', 'Border_IntDen','Border_RawIntDen', 'Border_AR', 'Border_Round', 'Border_Solidity'])\n",
    "    y = dataset['Media_type']\n",
    "    X_train, X_test, y_train, y_test = train_test_split(X, y, test_size = 0.2)\n",
    "    model = DecisionTreeClassifier()\n",
    "    model.fit(X_train, y_train)\n",
    "    predics = model.predict(X)\n",
    "    return print(predics)\n",
    "\n",
    "#run_model(data)\n",
    "\n",
    "\n",
    "    \n"
   ]
  },
  {
   "cell_type": "code",
   "execution_count": 11,
   "metadata": {},
   "outputs": [],
   "source": [
    "#function with nested loop to run model for each sample within df\n",
    "def loop(dataset):\n",
    "    i = 0\n",
    "    while i < 20: \n",
    "        statement = 'predics'\n",
    "        statement_2 = str(i)\n",
    "        final = statement + statement_2\n",
    "        X = dataset[['Area', 'Circ.', 'Mean', 'Border_Area', 'Border_Circ.', 'Border_Mean']]\n",
    "        y = dataset['Media_type']\n",
    "        X_train, X_test, y_train, y_test = train_test_split(X, y, test_size = 0.2)\n",
    "        model = DecisionTreeClassifier()\n",
    "        model.fit(X_train, y_train)\n",
    "        predics = model.predict(X)\n",
    "        data[final] = predics\n",
    "        i += 1\n",
    "loop(data)"
   ]
  }
 ],
 "metadata": {
  "kernelspec": {
   "display_name": "Python 3",
   "language": "python",
   "name": "python3"
  },
  "language_info": {
   "codemirror_mode": {
    "name": "ipython",
    "version": 3
   },
   "file_extension": ".py",
   "mimetype": "text/x-python",
   "name": "python",
   "nbconvert_exporter": "python",
   "pygments_lexer": "ipython3",
   "version": "3.8.5"
  }
 },
 "nbformat": 4,
 "nbformat_minor": 4
}
